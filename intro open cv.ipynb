{
 "cells": [
  {
   "cell_type": "markdown",
   "metadata": {},
   "source": [
    "# OpenCV"
   ]
  },
  {
   "cell_type": "markdown",
   "metadata": {},
   "source": [
    "open cv merupakan library processing yang dibuat oleh intel alalu disupprt oleh willw garage  dan sekarang di maintain oleh itseez\n",
    "\n",
    "\n",
    "bisa diinstal di mac, windows , linux\n",
    "\n",
    "bisa di c , x++ dan python\n",
    "licesnsi opensource dan free\n",
    "\n",
    "mudah digunakan dan install\n",
    "\n",
    "\n",
    "digital image menyetod nilai dalam bentuk matriks\n",
    "pixel terbuat dari beberapa pixel \n"
   ]
  },
  {
   "cell_type": "markdown",
   "metadata": {},
   "source": [
    "### baca image"
   ]
  },
  {
   "cell_type": "code",
   "execution_count": 2,
   "metadata": {},
   "outputs": [],
   "source": [
    "import cv2 as cv"
   ]
  },
  {
   "cell_type": "code",
   "execution_count": 6,
   "metadata": {
    "scrolled": true
   },
   "outputs": [
    {
     "name": "stdout",
     "output_type": "stream",
     "text": [
      "[[[ 51  48  33]\n",
      "  [ 50  47  32]\n",
      "  [ 48  48  32]\n",
      "  ...\n",
      "  [ 34  43  40]\n",
      "  [ 55  61  60]\n",
      "  [ 23  29  28]]\n",
      "\n",
      " [[ 46  45  31]\n",
      "  [ 48  48  32]\n",
      "  [ 50  50  36]\n",
      "  ...\n",
      "  [ 40  48  47]\n",
      "  [ 57  65  64]\n",
      "  [ 22  30  29]]\n",
      "\n",
      " [[ 51  53  41]\n",
      "  [ 53  56  41]\n",
      "  [ 56  58  46]\n",
      "  ...\n",
      "  [ 40  51  49]\n",
      "  [ 59  69  69]\n",
      "  [ 23  33  33]]\n",
      "\n",
      " ...\n",
      "\n",
      " [[ 21  23  17]\n",
      "  [ 22  24  18]\n",
      "  [ 23  25  19]\n",
      "  ...\n",
      "  [ 94 174 103]\n",
      "  [ 91 173 101]\n",
      "  [ 88 172 100]]\n",
      "\n",
      " [[ 17  21  16]\n",
      "  [ 17  21  16]\n",
      "  [ 18  22  17]\n",
      "  ...\n",
      "  [103 178 110]\n",
      "  [ 97 177 108]\n",
      "  [ 96 177 108]]\n",
      "\n",
      " [[ 15  19  14]\n",
      "  [ 16  20  15]\n",
      "  [ 17  21  16]\n",
      "  ...\n",
      "  [104 178 112]\n",
      "  [100 177 109]\n",
      "  [ 98 178 109]]]\n"
     ]
    },
    {
     "data": {
      "text/plain": [
       "True"
      ]
     },
     "execution_count": 6,
     "metadata": {},
     "output_type": "execute_result"
    }
   ],
   "source": [
    "img = cv.imread('data/yazid.jpg')\n",
    "print(img)\n",
    "\n",
    "cv.imshow('Gambar',img)\n",
    "cv.waitKey(0)\n",
    "cv.destroyAllWindows()\n",
    "cv.imwrite('yazid_copy.jpg',img)"
   ]
  },
  {
   "cell_type": "markdown",
   "metadata": {},
   "source": [
    "### Simpan Gambar"
   ]
  },
  {
   "cell_type": "code",
   "execution_count": 7,
   "metadata": {},
   "outputs": [
    {
     "data": {
      "text/plain": [
       "True"
      ]
     },
     "execution_count": 7,
     "metadata": {},
     "output_type": "execute_result"
    }
   ],
   "source": [
    "img = cv.imread('data/yazid.jpg')\n",
    "\n",
    "cv.imshow('Gambar',img)\n",
    "cv.waitKey(0)\n",
    "cv.destroyAllWindows()\n",
    "cv.imwrite('yazid_copy.jpg',img)"
   ]
  },
  {
   "cell_type": "markdown",
   "metadata": {},
   "source": [
    "### Baca Video"
   ]
  },
  {
   "cell_type": "code",
   "execution_count": 8,
   "metadata": {},
   "outputs": [
    {
     "ename": "error",
     "evalue": "OpenCV(4.2.0) C:\\projects\\opencv-python\\opencv\\modules\\highgui\\src\\window.cpp:376: error: (-215:Assertion failed) size.width>0 && size.height>0 in function 'cv::imshow'\n",
     "output_type": "error",
     "traceback": [
      "\u001b[1;31m---------------------------------------------------------------------------\u001b[0m",
      "\u001b[1;31merror\u001b[0m                                     Traceback (most recent call last)",
      "\u001b[1;32m<ipython-input-8-70cb2db1bc43>\u001b[0m in \u001b[0;36m<module>\u001b[1;34m\u001b[0m\n\u001b[0;32m      6\u001b[0m     \u001b[0mret\u001b[0m\u001b[1;33m,\u001b[0m\u001b[0mframe\u001b[0m \u001b[1;33m=\u001b[0m \u001b[0mcap\u001b[0m\u001b[1;33m.\u001b[0m\u001b[0mread\u001b[0m\u001b[1;33m(\u001b[0m\u001b[1;33m)\u001b[0m\u001b[1;33m\u001b[0m\u001b[1;33m\u001b[0m\u001b[0m\n\u001b[0;32m      7\u001b[0m \u001b[1;33m\u001b[0m\u001b[0m\n\u001b[1;32m----> 8\u001b[1;33m     \u001b[0mcv\u001b[0m\u001b[1;33m.\u001b[0m\u001b[0mimshow\u001b[0m\u001b[1;33m(\u001b[0m\u001b[1;34m'frame'\u001b[0m\u001b[1;33m,\u001b[0m\u001b[0mframe\u001b[0m\u001b[1;33m)\u001b[0m\u001b[1;33m\u001b[0m\u001b[1;33m\u001b[0m\u001b[0m\n\u001b[0m\u001b[0;32m      9\u001b[0m     \u001b[1;32mif\u001b[0m \u001b[0mcv\u001b[0m\u001b[1;33m.\u001b[0m\u001b[0mwaitKey\u001b[0m\u001b[1;33m(\u001b[0m\u001b[1;36m1\u001b[0m\u001b[1;33m)\u001b[0m \u001b[1;33m&\u001b[0m \u001b[1;36m0xFF\u001b[0m \u001b[1;33m==\u001b[0m \u001b[0mord\u001b[0m\u001b[1;33m(\u001b[0m\u001b[1;34m'q'\u001b[0m\u001b[1;33m)\u001b[0m\u001b[1;33m:\u001b[0m\u001b[1;33m\u001b[0m\u001b[1;33m\u001b[0m\u001b[0m\n\u001b[0;32m     10\u001b[0m         \u001b[1;32mbreak\u001b[0m\u001b[1;33m\u001b[0m\u001b[1;33m\u001b[0m\u001b[0m\n",
      "\u001b[1;31merror\u001b[0m: OpenCV(4.2.0) C:\\projects\\opencv-python\\opencv\\modules\\highgui\\src\\window.cpp:376: error: (-215:Assertion failed) size.width>0 && size.height>0 in function 'cv::imshow'\n"
     ]
    }
   ],
   "source": [
    "cap = cv.VideoCapture(0)\n",
    "\n",
    "while(True):\n",
    "    #return true if frame is available and rturn to frame variable\n",
    "    #true or flase willbe saved if the frame available\n",
    "    ret,frame = cap.read()\n",
    "    \n",
    "    cv.imshow('frame',frame)\n",
    "    if cv.waitKey(1) & 0xFF == ord('q'):\n",
    "        break\n",
    "cap.release()\n",
    "cvdestroyAllWindow()"
   ]
  },
  {
   "cell_type": "markdown",
   "metadata": {},
   "source": [
    "### Video to gray"
   ]
  },
  {
   "cell_type": "code",
   "execution_count": 16,
   "metadata": {},
   "outputs": [],
   "source": [
    "cap = cv.VideoCapture(\"data/car.mp4\")\n",
    "while True:\n",
    "    success,img = cap.read()\n",
    "    cv.imshow(\"Video\",img)\n",
    "    if cv.waitKey(1) & 0xFF == ord('q'):\n",
    "        break"
   ]
  },
  {
   "cell_type": "code",
   "execution_count": null,
   "metadata": {},
   "outputs": [],
   "source": []
  }
 ],
 "metadata": {
  "kernelspec": {
   "display_name": "Python 3",
   "language": "python",
   "name": "python3"
  }
 },
 "nbformat": 4,
 "nbformat_minor": 4
}
