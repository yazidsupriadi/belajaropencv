{
 "cells": [
  {
   "cell_type": "markdown",
   "metadata": {},
   "source": [
    "# OpenCV"
   ]
  },
  {
   "cell_type": "markdown",
   "metadata": {},
   "source": [
    "open cv merupakan library processing yang dibuat oleh intel alalu disupprt oleh willw garage  dan sekarang di maintain oleh itseez\n",
    "\n",
    "\n",
    "bisa diinstal di mac, windows , linux\n",
    "\n",
    "bisa di c , x++ dan python\n",
    "licesnsi opensource dan free\n",
    "\n",
    "mudah digunakan dan install\n",
    "\n",
    "\n",
    "digital image menyetod nilai dalam bentuk matriks\n",
    "pixel terbuat dari beberapa pixel \n"
   ]
  }
 ],
 "metadata": {
  "kernelspec": {
   "display_name": "Python 3",
   "language": "python",
   "name": "python3"
  },
  "language_info": {
   "codemirror_mode": {
    "name": "ipython",
    "version": 3
   },
   "file_extension": ".py",
   "mimetype": "text/x-python",
   "name": "python",
   "nbconvert_exporter": "python",
   "pygments_lexer": "ipython3",
   "version": "3.7.2"
  }
 },
 "nbformat": 4,
 "nbformat_minor": 4
}
